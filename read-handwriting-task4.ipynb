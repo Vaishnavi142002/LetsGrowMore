{
 "cells": [
  {
   "cell_type": "code",
   "execution_count": 1,
   "id": "37fc8a9a",
   "metadata": {},
   "outputs": [],
   "source": [
    "import pandas as pd\n",
    "import matplotlib.pyplot as plt\n",
    "import numpy as np"
   ]
  },
  {
   "cell_type": "code",
   "execution_count": 2,
   "id": "bce16830",
   "metadata": {},
   "outputs": [],
   "source": [
    "df_train = pd.read_csv('../datasets/digit recognition/train.csv')"
   ]
  },
  {
   "cell_type": "code",
   "execution_count": 3,
   "id": "2b4f23f5",
   "metadata": {},
   "outputs": [
    {
     "data": {
      "text/plain": [
       "(42000, 785)"
      ]
     },
     "execution_count": 3,
     "metadata": {},
     "output_type": "execute_result"
    }
   ],
   "source": [
    "df_train.shape"
   ]
  },
  {
   "cell_type": "code",
   "execution_count": 4,
   "id": "9000f249",
   "metadata": {},
   "outputs": [
    {
     "data": {
      "text/plain": [
       "label       1\n",
       "pixel0      0\n",
       "pixel1      0\n",
       "pixel2      0\n",
       "pixel3      0\n",
       "           ..\n",
       "pixel779    0\n",
       "pixel780    0\n",
       "pixel781    0\n",
       "pixel782    0\n",
       "pixel783    0\n",
       "Name: 0, Length: 785, dtype: int64"
      ]
     },
     "execution_count": 4,
     "metadata": {},
     "output_type": "execute_result"
    }
   ],
   "source": [
    "df_train.iloc[0]"
   ]
  },
  {
   "cell_type": "code",
   "execution_count": 9,
   "id": "c9096aff",
   "metadata": {},
   "outputs": [],
   "source": [
    "img_array = np.array(df_train.iloc[0,1:]).reshape(28,28)"
   ]
  },
  {
   "cell_type": "code",
   "execution_count": 10,
   "id": "ebf33dff",
   "metadata": {},
   "outputs": [
    {
     "data": {
      "text/plain": [
       "<matplotlib.image.AxesImage at 0x1818bbe1760>"
      ]
     },
     "execution_count": 10,
     "metadata": {},
     "output_type": "execute_result"
    },
    {
     "data": {
      "image/png": "[encoded data removed]",
      "text/plain": [
       "<Figure size 432x288 with 1 Axes>"
      ]
     },
     "metadata": {
      "needs_background": "light"
     },
     "output_type": "display_data"
    }
   ],
   "source": [
    "plt.imshow(img_array)"
   ]
  },
  {
   "cell_type": "code",
   "execution_count": 5,
   "id": "e839d304",
   "metadata": {},
   "outputs": [],
   "source": [
    "def print_img(index):\n",
    "    img_array = np.array(df_train.iloc[index,1:]).reshape(28,28)\n",
    "    plt.imshow(img_array)"
   ]
  },
  {
   "cell_type": "code",
   "execution_count": 7,
   "id": "09fd8083",
   "metadata": {},
   "outputs": [
    {
     "data": {
      "image/png": "[encoded data removed]",
      "text/plain": [
       "<Figure size 432x288 with 1 Axes>"
      ]
     },
     "metadata": {
      "needs_background": "light"
     },
     "output_type": "display_data"
    }
   ],
   "source": [
    "print_img(312)"
   ]
  },
  {
   "cell_type": "code",
   "execution_count": 8,
   "id": "eb7c0b7f",
   "metadata": {},
   "outputs": [],
   "source": [
    "y = df_train['label']\n",
    "X = df_train.iloc[:,1:]"
   ]
  },
  {
   "cell_type": "code",
   "execution_count": 9,
   "id": "d023fc6b",
   "metadata": {},
   "outputs": [],
   "source": [
    "from sklearn.model_selection import train_test_split\n",
    "X_train, X_test, y_train, y_test = train_test_split(X,y,test_size=0.1, random_state=78)"
   ]
  },
  {
   "cell_type": "code",
   "execution_count": 10,
   "id": "92da91f4",
   "metadata": {},
   "outputs": [],
   "source": [
    "X_train = X_train/255 #Normalization\n",
    "X_test = X_test/255"
   ]
  },
  {
   "cell_type": "code",
   "execution_count": 36,
   "id": "aa8c17e2",
   "metadata": {},
   "outputs": [
    {
     "data": {
      "text/plain": [
       "26483    3\n",
       "27406    3\n",
       "18213    2\n",
       "39667    9\n",
       "13568    4\n",
       "        ..\n",
       "22633    3\n",
       "36904    5\n",
       "38807    6\n",
       "16854    1\n",
       "39621    6\n",
       "Name: label, Length: 37800, dtype: int64"
      ]
     },
     "execution_count": 36,
     "metadata": {},
     "output_type": "execute_result"
    }
   ],
   "source": [
    "y_train"
   ]
  },
  {
   "cell_type": "markdown",
   "id": "ecf6f2b3",
   "metadata": {},
   "source": [
    "#Lets do it using SVM"
   ]
  },
  {
   "cell_type": "code",
   "execution_count": 37,
   "id": "b86bb700",
   "metadata": {},
   "outputs": [
    {
     "data": {
      "text/plain": [
       "SVC()"
      ]
     },
     "execution_count": 37,
     "metadata": {},
     "output_type": "execute_result"
    }
   ],
   "source": [
    "from sklearn.svm import SVC\n",
    "model = SVC()\n",
    "model.fit(X_train,y_train)"
   ]
  },
  {
   "cell_type": "code",
   "execution_count": 38,
   "id": "fbe4d0e3",
   "metadata": {},
   "outputs": [
    {
     "data": {
      "text/plain": [
       "(0.9889682539682539, 0.9742857142857143)"
      ]
     },
     "execution_count": 38,
     "metadata": {},
     "output_type": "execute_result"
    }
   ],
   "source": [
    "model.score(X_train,y_train), model.score(X_test,y_test)"
   ]
  },
  {
   "cell_type": "code",
   "execution_count": 11,
   "id": "9a17895f",
   "metadata": {},
   "outputs": [],
   "source": [
    "from tensorflow.keras.utils import to_categorical"
   ]
  },
  {
   "cell_type": "code",
   "execution_count": 12,
   "id": "860a5ee0",
   "metadata": {},
   "outputs": [],
   "source": [
    "y_train=to_categorical(y_train,num_classes=10)\n",
    "y_test=to_categorical(y_test,num_classes=10)"
   ]
  },
  {
   "cell_type": "code",
   "execution_count": 13,
   "id": "0bfcd574",
   "metadata": {},
   "outputs": [
    {
     "data": {
      "text/plain": [
       "array([[0., 0., 0., ..., 0., 0., 0.],\n",
       "       [0., 0., 0., ..., 0., 0., 0.],\n",
       "       [0., 0., 1., ..., 0., 0., 0.],\n",
       "       ...,\n",
       "       [0., 0., 0., ..., 0., 0., 0.],\n",
       "       [0., 1., 0., ..., 0., 0., 0.],\n",
       "       [0., 0., 0., ..., 0., 0., 0.]], dtype=float32)"
      ]
     },
     "execution_count": 13,
     "metadata": {},
     "output_type": "execute_result"
    }
   ],
   "source": [
    "y_train"
   ]
  },
  {
   "cell_type": "code",
   "execution_count": 14,
   "id": "2ceb2868",
   "metadata": {},
   "outputs": [],
   "source": [
    "from tensorflow.keras.models import Sequential\n",
    "from tensorflow.keras.layers import Dense"
   ]
  },
  {
   "cell_type": "code",
   "execution_count": 25,
   "id": "46a07ec0",
   "metadata": {},
   "outputs": [],
   "source": [
    "model = Sequential()\n",
    "model.add(Dense(50, activation='relu',input_shape=(784,)))\n",
    "model.add(Dense(40, activation='relu'))\n",
    "model.add(Dense(10, activation = 'softmax'))"
   ]
  },
  {
   "cell_type": "code",
   "execution_count": 26,
   "id": "eeef22d0",
   "metadata": {},
   "outputs": [
    {
     "name": "stdout",
     "output_type": "stream",
     "text": [
      "Model: \"sequential_1\"\n",
      "_________________________________________________________________\n",
      "Layer (type)                 Output Shape              Param #   \n",
      "=================================================================\n",
      "dense_3 (Dense)              (None, 50)                39250     \n",
      "_________________________________________________________________\n",
      "dense_4 (Dense)              (None, 40)                2040      \n",
      "_________________________________________________________________\n",
      "dense_5 (Dense)              (None, 10)                410       \n",
      "=================================================================\n",
      "Total params: 41,700\n",
      "Trainable params: 41,700\n",
      "Non-trainable params: 0\n",
      "_________________________________________________________________\n"
     ]
    }
   ],
   "source": [
    "model.summary()"
   ]
  },
  {
   "cell_type": "code",
   "execution_count": 27,
   "id": "8c2c4b9c",
   "metadata": {},
   "outputs": [],
   "source": [
    "model.compile(loss='categorical_crossentropy', metrics=['accuracy'])"
   ]
  },
  {
   "cell_type": "code",
   "execution_count": 28,
   "id": "2d2f468b",
   "metadata": {},
   "outputs": [
    {
     "name": "stdout",
     "output_type": "stream",
     "text": [
      "Epoch 1/20\n",
      "591/591 [==============================] - 1s 1ms/step - loss: 0.4132 - accuracy: 0.8845 - val_loss: 0.3251 - val_accuracy: 0.9021\n",
      "Epoch 2/20\n",
      "591/591 [==============================] - 1s 1ms/step - loss: 0.2015 - accuracy: 0.9419 - val_loss: 0.2265 - val_accuracy: 0.9310\n",
      "Epoch 3/20\n",
      "591/591 [==============================] - 1s 1ms/step - loss: 0.1530 - accuracy: 0.9542 - val_loss: 0.2015 - val_accuracy: 0.9374\n",
      "Epoch 4/20\n",
      "591/591 [==============================] - 1s 1ms/step - loss: 0.1244 - accuracy: 0.9631 - val_loss: 0.1672 - val_accuracy: 0.9533\n",
      "Epoch 5/20\n",
      "591/591 [==============================] - 1s 1ms/step - loss: 0.1063 - accuracy: 0.9685 - val_loss: 0.1584 - val_accuracy: 0.9569\n",
      "Epoch 6/20\n",
      "591/591 [==============================] - 1s 1ms/step - loss: 0.0914 - accuracy: 0.9731 - val_loss: 0.1421 - val_accuracy: 0.9624\n",
      "Epoch 7/20\n",
      "591/591 [==============================] - 1s 1ms/step - loss: 0.0801 - accuracy: 0.9758 - val_loss: 0.1383 - val_accuracy: 0.9598\n",
      "Epoch 8/20\n",
      "591/591 [==============================] - 1s 1ms/step - loss: 0.0695 - accuracy: 0.9785 - val_loss: 0.1368 - val_accuracy: 0.9638\n",
      "Epoch 9/20\n",
      "591/591 [==============================] - 1s 1ms/step - loss: 0.0634 - accuracy: 0.9804 - val_loss: 0.1380 - val_accuracy: 0.9655\n",
      "Epoch 10/20\n",
      "591/591 [==============================] - 1s 1ms/step - loss: 0.0569 - accuracy: 0.9824 - val_loss: 0.1351 - val_accuracy: 0.9636\n",
      "Epoch 11/20\n",
      "591/591 [==============================] - 1s 1ms/step - loss: 0.0499 - accuracy: 0.9845 - val_loss: 0.1465 - val_accuracy: 0.9631\n",
      "Epoch 12/20\n",
      "591/591 [==============================] - 1s 1ms/step - loss: 0.0452 - accuracy: 0.9860 - val_loss: 0.1477 - val_accuracy: 0.9640\n",
      "Epoch 13/20\n",
      "591/591 [==============================] - 1s 1ms/step - loss: 0.0413 - accuracy: 0.9878 - val_loss: 0.1522 - val_accuracy: 0.9648\n",
      "Epoch 14/20\n",
      "591/591 [==============================] - 1s 1ms/step - loss: 0.0362 - accuracy: 0.9881 - val_loss: 0.1537 - val_accuracy: 0.9643\n",
      "Epoch 15/20\n",
      "591/591 [==============================] - 1s 1ms/step - loss: 0.0329 - accuracy: 0.9895 - val_loss: 0.1479 - val_accuracy: 0.9660\n",
      "Epoch 16/20\n",
      "591/591 [==============================] - 1s 1ms/step - loss: 0.0299 - accuracy: 0.9912 - val_loss: 0.1651 - val_accuracy: 0.9629\n",
      "Epoch 17/20\n",
      "591/591 [==============================] - 1s 1ms/step - loss: 0.0267 - accuracy: 0.9916 - val_loss: 0.1631 - val_accuracy: 0.9655\n",
      "Epoch 18/20\n",
      "591/591 [==============================] - 1s 1ms/step - loss: 0.0240 - accuracy: 0.9922 - val_loss: 0.1696 - val_accuracy: 0.9676\n",
      "Epoch 19/20\n",
      "591/591 [==============================] - 1s 1ms/step - loss: 0.0217 - accuracy: 0.9935 - val_loss: 0.1819 - val_accuracy: 0.9648\n",
      "Epoch 20/20\n",
      "591/591 [==============================] - 1s 1ms/step - loss: 0.0191 - accuracy: 0.9941 - val_loss: 0.1688 - val_accuracy: 0.9652\n"
     ]
    },
    {
     "data": {
      "text/plain": [
       "<tensorflow.python.keras.callbacks.History at 0x237d46231c0>"
      ]
     },
     "execution_count": 28,
     "metadata": {},
     "output_type": "execute_result"
    }
   ],
   "source": [
    "model.fit(X_train,y_train,validation_data=(X_test,y_test),epochs=20, batch_size=64)"
   ]
  },
  {
   "cell_type": "code",
   "execution_count": 29,
   "id": "ca98733c",
   "metadata": {},
   "outputs": [
    {
     "name": "stdout",
     "output_type": "stream",
     "text": [
      "132/132 [==============================] - 0s 635us/step - loss: 0.1688 - accuracy: 0.9652\n"
     ]
    },
    {
     "data": {
      "text/plain": [
       "[0.16876448690891266, 0.965238094329834]"
      ]
     },
     "execution_count": 29,
     "metadata": {},
     "output_type": "execute_result"
    }
   ],
   "source": [
    "#Score on unlnown data\n",
    "model.evaluate(X_test,y_test)"
   ]
  },
  {
   "cell_type": "code",
   "execution_count": 21,
   "id": "713bd939",
   "metadata": {},
   "outputs": [
    {
     "data": {
      "text/plain": [
       "(4200, 784)"
      ]
     },
     "execution_count": 21,
     "metadata": {},
     "output_type": "execute_result"
    }
   ],
   "source": [
    "X_test.shape"
   ]
  },
  {
   "cell_type": "code",
   "execution_count": 30,
   "id": "42ff3bee",
   "metadata": {},
   "outputs": [],
   "source": [
    "y_pre = model.predict(X_test)"
   ]
  },
  {
   "cell_type": "code",
   "execution_count": 36,
   "id": "ae86f43d",
   "metadata": {},
   "outputs": [
    {
     "data": {
      "text/plain": [
       "0"
      ]
     },
     "execution_count": 36,
     "metadata": {},
     "output_type": "execute_result"
    }
   ],
   "source": [
    "y_pre[2].argmax()"
   ]
  },
  {
   "cell_type": "code",
   "execution_count": 44,
   "id": "54152862",
   "metadata": {},
   "outputs": [
    {
     "data": {
      "text/plain": [
       "<matplotlib.image.AxesImage at 0x237d4dbe940>"
      ]
     },
     "execution_count": 44,
     "metadata": {},
     "output_type": "execute_result"
    },
    {
     "data": {
      "image/png": "[encoded data removed]",
      "text/plain": [
       "<Figure size 432x288 with 1 Axes>"
      ]
     },
     "metadata": {
      "needs_background": "light"
     },
     "output_type": "display_data"
    }
   ],
   "source": [
    "plt.imshow(np.array(X_test.iloc[2]*255).reshape(28,28))"
   ]
  },
  {
   "cell_type": "code",
   "execution_count": 48,
   "id": "3cd727ad",
   "metadata": {},
   "outputs": [
    {
     "data": {
      "text/plain": [
       "(4200,)"
      ]
     },
     "execution_count": 48,
     "metadata": {},
     "output_type": "execute_result"
    }
   ],
   "source": [
    "y_pre.argmax(axis=1).shape"
   ]
  },
  {
   "cell_type": "code",
   "execution_count": 49,
   "id": "fb77e6b3",
   "metadata": {},
   "outputs": [],
   "source": [
    "df_test = pd.read_csv('../datasets/digit recognition/test.csv')"
   ]
  },
  {
   "cell_type": "code",
   "execution_count": 50,
   "id": "d91c0d64",
   "metadata": {},
   "outputs": [
    {
     "data": {
      "text/plain": [
       "(28000, 784)"
      ]
     },
     "execution_count": 50,
     "metadata": {},
     "output_type": "execute_result"
    }
   ],
   "source": [
    "df_test.shape"
   ]
  },
  {
   "cell_type": "code",
   "execution_count": 51,
   "id": "fee35dfb",
   "metadata": {},
   "outputs": [],
   "source": [
    "X = df_test/255"
   ]
  },
  {
   "cell_type": "code",
   "execution_count": 52,
   "id": "78812e27",
   "metadata": {},
   "outputs": [],
   "source": [
    "y_pre = model.predict(X)"
   ]
  },
  {
   "cell_type": "code",
   "execution_count": 57,
   "id": "d1564b89",
   "metadata": {},
   "outputs": [],
   "source": [
    "y_final = y_pre.argmax(axis=1)"
   ]
  },
  {
   "cell_type": "code",
   "execution_count": 54,
   "id": "b21cd36a",
   "metadata": {},
   "outputs": [
    {
     "data": {
      "text/plain": [
       "array([7.6955835e-13, 2.4142033e-25, 1.0000000e+00, 2.9631300e-12,\n",
       "       3.2426612e-17, 4.4484827e-19, 4.3901148e-14, 9.9833164e-10,\n",
       "       7.5751978e-15, 1.8717275e-22], dtype=float32)"
      ]
     },
     "execution_count": 54,
     "metadata": {},
     "output_type": "execute_result"
    }
   ],
   "source": [
    "y_pre[0]"
   ]
  },
  {
   "cell_type": "code",
   "execution_count": 58,
   "id": "f1b38f17",
   "metadata": {},
   "outputs": [
    {
     "data": {
      "text/plain": [
       "array([2, 0, 9, ..., 3, 9, 2], dtype=int64)"
      ]
     },
     "execution_count": 58,
     "metadata": {},
     "output_type": "execute_result"
    }
   ],
   "source": [
    "y_final"
   ]
  },
  {
   "cell_type": "code",
   "execution_count": 60,
   "id": "a9f85072",
   "metadata": {},
   "outputs": [],
   "source": [
    "df_test['Label'] = y_final"
   ]
  },
  {
   "cell_type": "code",
   "execution_count": 62,
   "id": "e669a78f",
   "metadata": {},
   "outputs": [],
   "source": [
    "df_test[['Label']].to_csv('s1.csv')"
   ]
  },
  {
   "cell_type": "code",
   "execution_count": null,
   "id": "edc618aa",
   "metadata": {},
   "outputs": [],
   "source": []
  }
 ],
 "metadata": {
  "language_info": {
   "codemirror_mode": {
    "name": "ipython",
    "version": 3
   },
   "file_extension": ".py",
   "mimetype": "text/x-python",
   "name": "python",
   "nbconvert_exporter": "python",
   "pygments_lexer": "ipython3",
   "version": "3.8.8"
  }
 },
 "nbformat": 4,
 "nbformat_minor": 5
}