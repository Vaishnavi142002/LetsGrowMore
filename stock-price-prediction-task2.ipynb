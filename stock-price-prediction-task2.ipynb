{
 "cells": [
  {
   "cell_type": "markdown",
   "metadata": {},
   "source": [
    "# Task 2 (Beginner Level): Stock Market Prediction And Forecasting Using Stacked LSTM\n",
    "\n",
    "\n"
   ]
  },
  {
   "cell_type": "markdown",
   "metadata": {},
   "source": [
    "## Author : Vaishnavi Jadhav"
   ]
  },
  {
   "cell_type": "code",
   "execution_count": 26,
   "metadata": {},
   "outputs": [],
   "source": [
    "!pip install jovian --upgrade --quiet"
   ]
  },
  {
   "cell_type": "code",
   "execution_count": 27,
   "metadata": {},
   "outputs": [],
   "source": [
    "import jovian"
   ]
  },
  {
   "cell_type": "code",
   "execution_count": 28,
   "metadata": {},
   "outputs": [
    {
     "name": "stdout",
     "output_type": "stream",
     "text": [
      "Requirement already satisfied: pip in /opt/conda/lib/python3.9/site-packages (22.0.4)\n",
      "Found existing installation: tensorflow 2.8.0\n",
      "Uninstalling tensorflow-2.8.0:\n",
      "  Would remove:\n",
      "    /opt/conda/bin/estimator_ckpt_converter\n",
      "    /opt/conda/bin/import_pb_to_tensorboard\n",
      "    /opt/conda/bin/saved_model_cli\n",
      "    /opt/conda/bin/tensorboard\n",
      "    /opt/conda/bin/tf_upgrade_v2\n",
      "    /opt/conda/bin/tflite_convert\n",
      "    /opt/conda/bin/toco\n",
      "    /opt/conda/bin/toco_from_protos\n",
      "    /opt/conda/lib/python3.9/site-packages/tensorflow-2.8.0.dist-info/*\n",
      "    /opt/conda/lib/python3.9/site-packages/tensorflow/*\n",
      "Proceed (Y/n)? ^C\n",
      "\u001b[31mERROR: Operation cancelled by user\u001b[0m\u001b[31m\n",
      "\u001b[0mRequirement already satisfied: tensorflow in /opt/conda/lib/python3.9/site-packages (2.8.0)\n",
      "Requirement already satisfied: tensorflow-io-gcs-filesystem>=0.23.1 in /opt/conda/lib/python3.9/site-packages (from tensorflow) (0.24.0)\n",
      "Requirement already satisfied: libclang>=9.0.1 in /opt/conda/lib/python3.9/site-packages (from tensorflow) (13.0.0)\n",
      "Requirement already satisfied: grpcio<2.0,>=1.24.3 in /opt/conda/lib/python3.9/site-packages (from tensorflow) (1.44.0)\n",
      "Requirement already satisfied: flatbuffers>=1.12 in /opt/conda/lib/python3.9/site-packages (from tensorflow) (2.0)\n",
      "Requirement already satisfied: six>=1.12.0 in /opt/conda/lib/python3.9/site-packages (from tensorflow) (1.16.0)\n",
      "Requirement already satisfied: tf-estimator-nightly==2.8.0.dev2021122109 in /opt/conda/lib/python3.9/site-packages (from tensorflow) (2.8.0.dev2021122109)\n",
      "Requirement already satisfied: protobuf>=3.9.2 in /opt/conda/lib/python3.9/site-packages (from tensorflow) (3.18.0)\n",
      "Requirement already satisfied: h5py>=2.9.0 in /opt/conda/lib/python3.9/site-packages (from tensorflow) (3.4.0)\n",
      "Requirement already satisfied: opt-einsum>=2.3.2 in /opt/conda/lib/python3.9/site-packages (from tensorflow) (3.3.0)\n",
      "Requirement already satisfied: absl-py>=0.4.0 in /opt/conda/lib/python3.9/site-packages (from tensorflow) (1.0.0)\n",
      "Requirement already satisfied: numpy>=1.20 in /opt/conda/lib/python3.9/site-packages (from tensorflow) (1.20.3)\n",
      "Requirement already satisfied: typing-extensions>=3.6.6 in /opt/conda/lib/python3.9/site-packages (from tensorflow) (3.10.0.2)\n",
      "Requirement already satisfied: termcolor>=1.1.0 in /opt/conda/lib/python3.9/site-packages (from tensorflow) (1.1.0)\n",
      "Requirement already satisfied: keras<2.9,>=2.8.0rc0 in /opt/conda/lib/python3.9/site-packages (from tensorflow) (2.8.0)\n",
      "Requirement already satisfied: google-pasta>=0.1.1 in /opt/conda/lib/python3.9/site-packages (from tensorflow) (0.2.0)\n",
      "Requirement already satisfied: keras-preprocessing>=1.1.1 in /opt/conda/lib/python3.9/site-packages (from tensorflow) (1.1.2)\n",
      "Requirement already satisfied: tensorboard<2.9,>=2.8 in /opt/conda/lib/python3.9/site-packages (from tensorflow) (2.8.0)\n",
      "Requirement already satisfied: gast>=0.2.1 in /opt/conda/lib/python3.9/site-packages (from tensorflow) (0.5.3)\n",
      "Requirement already satisfied: setuptools in /opt/conda/lib/python3.9/site-packages (from tensorflow) (58.0.4)\n",
      "Requirement already satisfied: astunparse>=1.6.0 in /opt/conda/lib/python3.9/site-packages (from tensorflow) (1.6.3)\n",
      "Requirement already satisfied: wrapt>=1.11.0 in /opt/conda/lib/python3.9/site-packages (from tensorflow) (1.14.0)\n",
      "Requirement already satisfied: wheel<1.0,>=0.23.0 in /opt/conda/lib/python3.9/site-packages (from astunparse>=1.6.0->tensorflow) (0.37.0)\n",
      "Requirement already satisfied: tensorboard-plugin-wit>=1.6.0 in /opt/conda/lib/python3.9/site-packages (from tensorboard<2.9,>=2.8->tensorflow) (1.8.1)\n",
      "Requirement already satisfied: markdown>=2.6.8 in /opt/conda/lib/python3.9/site-packages (from tensorboard<2.9,>=2.8->tensorflow) (3.3.6)\n",
      "Requirement already satisfied: tensorboard-data-server<0.7.0,>=0.6.0 in /opt/conda/lib/python3.9/site-packages (from tensorboard<2.9,>=2.8->tensorflow) (0.6.1)\n",
      "Requirement already satisfied: requests<3,>=2.21.0 in /opt/conda/lib/python3.9/site-packages (from tensorboard<2.9,>=2.8->tensorflow) (2.26.0)\n",
      "Requirement already satisfied: google-auth<3,>=1.6.3 in /opt/conda/lib/python3.9/site-packages (from tensorboard<2.9,>=2.8->tensorflow) (2.6.2)\n",
      "Requirement already satisfied: google-auth-oauthlib<0.5,>=0.4.1 in /opt/conda/lib/python3.9/site-packages (from tensorboard<2.9,>=2.8->tensorflow) (0.4.6)\n",
      "Requirement already satisfied: werkzeug>=0.11.15 in /opt/conda/lib/python3.9/site-packages (from tensorboard<2.9,>=2.8->tensorflow) (2.0.3)\n",
      "Requirement already satisfied: cachetools<6.0,>=2.0.0 in /opt/conda/lib/python3.9/site-packages (from google-auth<3,>=1.6.3->tensorboard<2.9,>=2.8->tensorflow) (5.0.0)\n",
      "Requirement already satisfied: rsa<5,>=3.1.4 in /opt/conda/lib/python3.9/site-packages (from google-auth<3,>=1.6.3->tensorboard<2.9,>=2.8->tensorflow) (4.8)\n",
      "Requirement already satisfied: pyasn1-modules>=0.2.1 in /opt/conda/lib/python3.9/site-packages (from google-auth<3,>=1.6.3->tensorboard<2.9,>=2.8->tensorflow) (0.2.8)\n",
      "Requirement already satisfied: requests-oauthlib>=0.7.0 in /opt/conda/lib/python3.9/site-packages (from google-auth-oauthlib<0.5,>=0.4.1->tensorboard<2.9,>=2.8->tensorflow) (1.3.1)\n",
      "Requirement already satisfied: importlib-metadata>=4.4 in /opt/conda/lib/python3.9/site-packages (from markdown>=2.6.8->tensorboard<2.9,>=2.8->tensorflow) (4.8.1)\n",
      "Requirement already satisfied: certifi>=2017.4.17 in /opt/conda/lib/python3.9/site-packages (from requests<3,>=2.21.0->tensorboard<2.9,>=2.8->tensorflow) (2021.5.30)\n",
      "Requirement already satisfied: idna<4,>=2.5 in /opt/conda/lib/python3.9/site-packages (from requests<3,>=2.21.0->tensorboard<2.9,>=2.8->tensorflow) (3.1)\n",
      "Requirement already satisfied: urllib3<1.27,>=1.21.1 in /opt/conda/lib/python3.9/site-packages (from requests<3,>=2.21.0->tensorboard<2.9,>=2.8->tensorflow) (1.26.7)\n",
      "Requirement already satisfied: charset-normalizer~=2.0.0 in /opt/conda/lib/python3.9/site-packages (from requests<3,>=2.21.0->tensorboard<2.9,>=2.8->tensorflow) (2.0.0)\n",
      "Requirement already satisfied: zipp>=0.5 in /opt/conda/lib/python3.9/site-packages (from importlib-metadata>=4.4->markdown>=2.6.8->tensorboard<2.9,>=2.8->tensorflow) (3.5.0)\n",
      "Requirement already satisfied: pyasn1<0.5.0,>=0.4.6 in /opt/conda/lib/python3.9/site-packages (from pyasn1-modules>=0.2.1->google-auth<3,>=1.6.3->tensorboard<2.9,>=2.8->tensorflow) (0.4.8)\n",
      "Requirement already satisfied: oauthlib>=3.0.0 in /opt/conda/lib/python3.9/site-packages (from requests-oauthlib>=0.7.0->google-auth-oauthlib<0.5,>=0.4.1->tensorboard<2.9,>=2.8->tensorflow) (3.1.1)\n"
     ]
    }
   ],
   "source": [
    "!pip install --upgrade pip\n",
    "!pip uninstall tensorflow\n",
    "!pip install tensorflow"
   ]
  },
  {
   "cell_type": "markdown",
   "metadata": {},
   "source": [
    "## Importing Libraries"
   ]
  },
  {
   "cell_type": "code",
   "execution_count": 30,
   "metadata": {
    "_cell_guid": "b1076dfc-b9ad-4769-8c92-a6c4dae69d19",
    "_uuid": "8f2839f25d086af736a60e9eeb907d3b93b6e0e5",
    "execution": {
     "iopub.execute_input": "2022-03-14T09:51:46.173075Z",
     "iopub.status.busy": "2022-03-14T09:51:46.172305Z",
     "iopub.status.idle": "2022-03-14T09:51:46.201003Z",
     "shell.execute_reply": "2022-03-14T09:51:46.200187Z",
     "shell.execute_reply.started": "2022-03-14T09:51:46.172983Z"
    }
   },
   "outputs": [],
   "source": [
    "# This Python 3 environment comes with many helpful analytics libraries installed\n",
    "# It is defined by the kaggle/python Docker image: https://github.com/kaggle/docker-python\n",
    "# For example, here's several helpful packages to load\n",
    "\n",
    "import numpy as np # linear algebra\n",
    "import pandas as pd # data processing, CSV file I/O (e.g. pd.read_csv)\n",
    "\n",
    "# Input data files are available in the read-only \"../input/\" directory\n",
    "# For example, running this (by clicking run or pressing Shift+Enter) will list all files under the input directory\n",
    "\n",
    "import os\n",
    "for dirname, _, filenames in os.walk('/kaggle/input'):\n",
    "    for filename in filenames:\n",
    "        print(os.path.join(dirname, filename))\n",
    "\n",
    "# You can write up to 20GB to the current directory (/kaggle/working/) that gets preserved as output when you create a version using \"Save & Run All\" \n",
    "# You can also write temporary files to /kaggle/temp/, but they won't be saved outside of the current session"
   ]
  },
  {
   "cell_type": "markdown",
   "metadata": {},
   "source": [
    "## Read CSV in Dataframe"
   ]
  },
  {
   "cell_type": "code",
   "execution_count": 31,
   "metadata": {
    "execution": {
     "iopub.execute_input": "2022-03-14T09:51:46.202993Z",
     "iopub.status.busy": "2022-03-14T09:51:46.202661Z",
     "iopub.status.idle": "2022-03-14T09:51:46.529121Z",
     "shell.execute_reply": "2022-03-14T09:51:46.528465Z",
     "shell.execute_reply.started": "2022-03-14T09:51:46.202952Z"
    }
   },
   "outputs": [],
   "source": [
    "df = pd.read_csv('https://raw.githubusercontent.com/mwitiderrick/stockprice/master/NSE-TATAGLOBAL.csv')"
   ]
  },
  {
   "cell_type": "code",
   "execution_count": 32,
   "metadata": {
    "execution": {
     "iopub.execute_input": "2022-03-14T09:51:46.530525Z",
     "iopub.status.busy": "2022-03-14T09:51:46.530285Z",
     "iopub.status.idle": "2022-03-14T09:51:47.441435Z",
     "shell.execute_reply": "2022-03-14T09:51:47.440765Z",
     "shell.execute_reply.started": "2022-03-14T09:51:46.530488Z"
    }
   },
   "outputs": [
    {
     "data": {
      "text/html": [
       "<div>\n",
       "<style scoped>\n",
       "    .dataframe tbody tr th:only-of-type {\n",
       "        vertical-align: middle;\n",
       "    }\n",
       "\n",
       "    .dataframe tbody tr th {\n",
       "        vertical-align: top;\n",
       "    }\n",
       "\n",
       "    .dataframe thead th {\n",
       "        text-align: right;\n",
       "    }\n",
       "</style>\n",
       "<table border=\"1\" class=\"dataframe\">\n",
       "  <thead>\n",
       "    <tr style=\"text-align: right;\">\n",
       "      <th></th>\n",
       "      <th>Date</th>\n",
       "      <th>Open</th>\n",
       "      <th>High</th>\n",
       "      <th>Low</th>\n",
       "      <th>Last</th>\n",
       "      <th>Close</th>\n",
       "      <th>Total Trade Quantity</th>\n",
       "      <th>Turnover (Lacs)</th>\n",
       "    </tr>\n",
       "  </thead>\n",
       "  <tbody>\n",
       "    <tr>\n",
       "      <th>0</th>\n",
       "      <td>2018-09-28</td>\n",
       "      <td>234.05</td>\n",
       "      <td>235.95</td>\n",
       "      <td>230.20</td>\n",
       "      <td>233.50</td>\n",
       "      <td>233.75</td>\n",
       "      <td>3069914</td>\n",
       "      <td>7162.35</td>\n",
       "    </tr>\n",
       "    <tr>\n",
       "      <th>1</th>\n",
       "      <td>2018-09-27</td>\n",
       "      <td>234.55</td>\n",
       "      <td>236.80</td>\n",
       "      <td>231.10</td>\n",
       "      <td>233.80</td>\n",
       "      <td>233.25</td>\n",
       "      <td>5082859</td>\n",
       "      <td>11859.95</td>\n",
       "    </tr>\n",
       "    <tr>\n",
       "      <th>2</th>\n",
       "      <td>2018-09-26</td>\n",
       "      <td>240.00</td>\n",
       "      <td>240.00</td>\n",
       "      <td>232.50</td>\n",
       "      <td>235.00</td>\n",
       "      <td>234.25</td>\n",
       "      <td>2240909</td>\n",
       "      <td>5248.60</td>\n",
       "    </tr>\n",
       "    <tr>\n",
       "      <th>3</th>\n",
       "      <td>2018-09-25</td>\n",
       "      <td>233.30</td>\n",
       "      <td>236.75</td>\n",
       "      <td>232.00</td>\n",
       "      <td>236.25</td>\n",
       "      <td>236.10</td>\n",
       "      <td>2349368</td>\n",
       "      <td>5503.90</td>\n",
       "    </tr>\n",
       "    <tr>\n",
       "      <th>4</th>\n",
       "      <td>2018-09-24</td>\n",
       "      <td>233.55</td>\n",
       "      <td>239.20</td>\n",
       "      <td>230.75</td>\n",
       "      <td>234.00</td>\n",
       "      <td>233.30</td>\n",
       "      <td>3423509</td>\n",
       "      <td>7999.55</td>\n",
       "    </tr>\n",
       "    <tr>\n",
       "      <th>...</th>\n",
       "      <td>...</td>\n",
       "      <td>...</td>\n",
       "      <td>...</td>\n",
       "      <td>...</td>\n",
       "      <td>...</td>\n",
       "      <td>...</td>\n",
       "      <td>...</td>\n",
       "      <td>...</td>\n",
       "    </tr>\n",
       "    <tr>\n",
       "      <th>2030</th>\n",
       "      <td>2010-07-27</td>\n",
       "      <td>117.60</td>\n",
       "      <td>119.50</td>\n",
       "      <td>112.00</td>\n",
       "      <td>118.80</td>\n",
       "      <td>118.65</td>\n",
       "      <td>586100</td>\n",
       "      <td>694.98</td>\n",
       "    </tr>\n",
       "    <tr>\n",
       "      <th>2031</th>\n",
       "      <td>2010-07-26</td>\n",
       "      <td>120.10</td>\n",
       "      <td>121.00</td>\n",
       "      <td>117.10</td>\n",
       "      <td>117.10</td>\n",
       "      <td>117.60</td>\n",
       "      <td>658440</td>\n",
       "      <td>780.01</td>\n",
       "    </tr>\n",
       "    <tr>\n",
       "      <th>2032</th>\n",
       "      <td>2010-07-23</td>\n",
       "      <td>121.80</td>\n",
       "      <td>121.95</td>\n",
       "      <td>120.25</td>\n",
       "      <td>120.35</td>\n",
       "      <td>120.65</td>\n",
       "      <td>281312</td>\n",
       "      <td>340.31</td>\n",
       "    </tr>\n",
       "    <tr>\n",
       "      <th>2033</th>\n",
       "      <td>2010-07-22</td>\n",
       "      <td>120.30</td>\n",
       "      <td>122.00</td>\n",
       "      <td>120.25</td>\n",
       "      <td>120.75</td>\n",
       "      <td>120.90</td>\n",
       "      <td>293312</td>\n",
       "      <td>355.17</td>\n",
       "    </tr>\n",
       "    <tr>\n",
       "      <th>2034</th>\n",
       "      <td>2010-07-21</td>\n",
       "      <td>122.10</td>\n",
       "      <td>123.00</td>\n",
       "      <td>121.05</td>\n",
       "      <td>121.10</td>\n",
       "      <td>121.55</td>\n",
       "      <td>658666</td>\n",
       "      <td>803.56</td>\n",
       "    </tr>\n",
       "  </tbody>\n",
       "</table>\n",
       "<p>2035 rows × 8 columns</p>\n",
       "</div>"
      ],
      "text/plain": [
       "            Date    Open    High     Low    Last   Close  \\\n",
       "0     2018-09-28  234.05  235.95  230.20  233.50  233.75   \n",
       "1     2018-09-27  234.55  236.80  231.10  233.80  233.25   \n",
       "2     2018-09-26  240.00  240.00  232.50  235.00  234.25   \n",
       "3     2018-09-25  233.30  236.75  232.00  236.25  236.10   \n",
       "4     2018-09-24  233.55  239.20  230.75  234.00  233.30   \n",
       "...          ...     ...     ...     ...     ...     ...   \n",
       "2030  2010-07-27  117.60  119.50  112.00  118.80  118.65   \n",
       "2031  2010-07-26  120.10  121.00  117.10  117.10  117.60   \n",
       "2032  2010-07-23  121.80  121.95  120.25  120.35  120.65   \n",
       "2033  2010-07-22  120.30  122.00  120.25  120.75  120.90   \n",
       "2034  2010-07-21  122.10  123.00  121.05  121.10  121.55   \n",
       "\n",
       "      Total Trade Quantity  Turnover (Lacs)  \n",
       "0                  3069914          7162.35  \n",
       "1                  5082859         11859.95  \n",
       "2                  2240909          5248.60  \n",
       "3                  2349368          5503.90  \n",
       "4                  3423509          7999.55  \n",
       "...                    ...              ...  \n",
       "2030                586100           694.98  \n",
       "2031                658440           780.01  \n",
       "2032                281312           340.31  \n",
       "2033                293312           355.17  \n",
       "2034                658666           803.56  \n",
       "\n",
       "[2035 rows x 8 columns]"
      ]
     },
     "execution_count": 32,
     "metadata": {},
     "output_type": "execute_result"
    }
   ],
   "source": [
    "from sklearn.model_selection import train_test_split\n",
    "df"
   ]
  },
  {
   "cell_type": "markdown",
   "metadata": {},
   "source": [
    "## Analyzing Data"
   ]
  },
  {
   "cell_type": "code",
   "execution_count": 56,
   "metadata": {},
   "outputs": [
    {
     "data": {
      "text/plain": [
       "(2035, 8)"
      ]
     },
     "execution_count": 56,
     "metadata": {},
     "output_type": "execute_result"
    }
   ],
   "source": [
    "df.shape"
   ]
  },
  {
   "cell_type": "code",
   "execution_count": 58,
   "metadata": {},
   "outputs": [
    {
     "data": {
      "text/plain": [
       "Date                     object\n",
       "Open                    float64\n",
       "High                    float64\n",
       "Low                     float64\n",
       "Last                    float64\n",
       "Close                   float64\n",
       "Total Trade Quantity      int64\n",
       "Turnover (Lacs)         float64\n",
       "dtype: object"
      ]
     },
     "execution_count": 58,
     "metadata": {},
     "output_type": "execute_result"
    }
   ],
   "source": [
    "df.dtypes"
   ]
  },
  {
   "cell_type": "code",
   "execution_count": 59,
   "metadata": {},
   "outputs": [
    {
     "data": {
      "text/html": [
       "<div>\n",
       "<style scoped>\n",
       "    .dataframe tbody tr th:only-of-type {\n",
       "        vertical-align: middle;\n",
       "    }\n",
       "\n",
       "    .dataframe tbody tr th {\n",
       "        vertical-align: top;\n",
       "    }\n",
       "\n",
       "    .dataframe thead th {\n",
       "        text-align: right;\n",
       "    }\n",
       "</style>\n",
       "<table border=\"1\" class=\"dataframe\">\n",
       "  <thead>\n",
       "    <tr style=\"text-align: right;\">\n",
       "      <th></th>\n",
       "      <th>Open</th>\n",
       "      <th>High</th>\n",
       "      <th>Low</th>\n",
       "      <th>Last</th>\n",
       "      <th>Close</th>\n",
       "      <th>Total Trade Quantity</th>\n",
       "      <th>Turnover (Lacs)</th>\n",
       "    </tr>\n",
       "  </thead>\n",
       "  <tbody>\n",
       "    <tr>\n",
       "      <th>count</th>\n",
       "      <td>2035.000000</td>\n",
       "      <td>2035.000000</td>\n",
       "      <td>2035.000000</td>\n",
       "      <td>2035.000000</td>\n",
       "      <td>2035.00000</td>\n",
       "      <td>2.035000e+03</td>\n",
       "      <td>2035.000000</td>\n",
       "    </tr>\n",
       "    <tr>\n",
       "      <th>mean</th>\n",
       "      <td>149.713735</td>\n",
       "      <td>151.992826</td>\n",
       "      <td>147.293931</td>\n",
       "      <td>149.474251</td>\n",
       "      <td>149.45027</td>\n",
       "      <td>2.335681e+06</td>\n",
       "      <td>3899.980565</td>\n",
       "    </tr>\n",
       "    <tr>\n",
       "      <th>std</th>\n",
       "      <td>48.664509</td>\n",
       "      <td>49.413109</td>\n",
       "      <td>47.931958</td>\n",
       "      <td>48.732570</td>\n",
       "      <td>48.71204</td>\n",
       "      <td>2.091778e+06</td>\n",
       "      <td>4570.767877</td>\n",
       "    </tr>\n",
       "    <tr>\n",
       "      <th>min</th>\n",
       "      <td>81.100000</td>\n",
       "      <td>82.800000</td>\n",
       "      <td>80.000000</td>\n",
       "      <td>81.000000</td>\n",
       "      <td>80.95000</td>\n",
       "      <td>3.961000e+04</td>\n",
       "      <td>37.040000</td>\n",
       "    </tr>\n",
       "    <tr>\n",
       "      <th>25%</th>\n",
       "      <td>120.025000</td>\n",
       "      <td>122.100000</td>\n",
       "      <td>118.300000</td>\n",
       "      <td>120.075000</td>\n",
       "      <td>120.05000</td>\n",
       "      <td>1.146444e+06</td>\n",
       "      <td>1427.460000</td>\n",
       "    </tr>\n",
       "    <tr>\n",
       "      <th>50%</th>\n",
       "      <td>141.500000</td>\n",
       "      <td>143.400000</td>\n",
       "      <td>139.600000</td>\n",
       "      <td>141.100000</td>\n",
       "      <td>141.25000</td>\n",
       "      <td>1.783456e+06</td>\n",
       "      <td>2512.030000</td>\n",
       "    </tr>\n",
       "    <tr>\n",
       "      <th>75%</th>\n",
       "      <td>157.175000</td>\n",
       "      <td>159.400000</td>\n",
       "      <td>155.150000</td>\n",
       "      <td>156.925000</td>\n",
       "      <td>156.90000</td>\n",
       "      <td>2.813594e+06</td>\n",
       "      <td>4539.015000</td>\n",
       "    </tr>\n",
       "    <tr>\n",
       "      <th>max</th>\n",
       "      <td>327.700000</td>\n",
       "      <td>328.750000</td>\n",
       "      <td>321.650000</td>\n",
       "      <td>325.950000</td>\n",
       "      <td>325.75000</td>\n",
       "      <td>2.919102e+07</td>\n",
       "      <td>55755.080000</td>\n",
       "    </tr>\n",
       "  </tbody>\n",
       "</table>\n",
       "</div>"
      ],
      "text/plain": [
       "              Open         High          Low         Last       Close  \\\n",
       "count  2035.000000  2035.000000  2035.000000  2035.000000  2035.00000   \n",
       "mean    149.713735   151.992826   147.293931   149.474251   149.45027   \n",
       "std      48.664509    49.413109    47.931958    48.732570    48.71204   \n",
       "min      81.100000    82.800000    80.000000    81.000000    80.95000   \n",
       "25%     120.025000   122.100000   118.300000   120.075000   120.05000   \n",
       "50%     141.500000   143.400000   139.600000   141.100000   141.25000   \n",
       "75%     157.175000   159.400000   155.150000   156.925000   156.90000   \n",
       "max     327.700000   328.750000   321.650000   325.950000   325.75000   \n",
       "\n",
       "       Total Trade Quantity  Turnover (Lacs)  \n",
       "count          2.035000e+03      2035.000000  \n",
       "mean           2.335681e+06      3899.980565  \n",
       "std            2.091778e+06      4570.767877  \n",
       "min            3.961000e+04        37.040000  \n",
       "25%            1.146444e+06      1427.460000  \n",
       "50%            1.783456e+06      2512.030000  \n",
       "75%            2.813594e+06      4539.015000  \n",
       "max            2.919102e+07     55755.080000  "
      ]
     },
     "execution_count": 59,
     "metadata": {},
     "output_type": "execute_result"
    }
   ],
   "source": [
    "df.describe()"
   ]
  },
  {
   "cell_type": "code",
   "execution_count": 33,
   "metadata": {
    "execution": {
     "iopub.execute_input": "2022-03-14T09:51:47.444443Z",
     "iopub.status.busy": "2022-03-14T09:51:47.443884Z",
     "iopub.status.idle": "2022-03-14T09:51:47.451525Z",
     "shell.execute_reply": "2022-03-14T09:51:47.450816Z",
     "shell.execute_reply.started": "2022-03-14T09:51:47.444404Z"
    }
   },
   "outputs": [],
   "source": [
    "y=df['Open']\n",
    "x1=df['High']\n",
    "x2=df['Low']\n",
    "x3=df['Close']\n",
    "x4=df['Total Trade Quantity']\n",
    "x5=df['Turnover (Lacs)']"
   ]
  },
  {
   "cell_type": "code",
   "execution_count": 34,
   "metadata": {
    "execution": {
     "iopub.execute_input": "2022-03-14T09:51:47.453206Z",
     "iopub.status.busy": "2022-03-14T09:51:47.452936Z",
     "iopub.status.idle": "2022-03-14T09:51:47.461220Z",
     "shell.execute_reply": "2022-03-14T09:51:47.460512Z",
     "shell.execute_reply.started": "2022-03-14T09:51:47.453170Z"
    }
   },
   "outputs": [],
   "source": [
    "y = np.array(y)\n",
    "x1= np.array(x1)\n",
    "x2= np.array(x2)\n",
    "x3= np.array(x3)\n",
    "x4= np.array(x4)\n",
    "x5= np.array(x5)\n"
   ]
  },
  {
   "cell_type": "markdown",
   "metadata": {},
   "source": [
    "## Scaling Data"
   ]
  },
  {
   "cell_type": "code",
   "execution_count": 35,
   "metadata": {
    "execution": {
     "iopub.execute_input": "2022-03-14T09:51:47.464040Z",
     "iopub.status.busy": "2022-03-14T09:51:47.463463Z",
     "iopub.status.idle": "2022-03-14T09:51:47.490373Z",
     "shell.execute_reply": "2022-03-14T09:51:47.489753Z",
     "shell.execute_reply.started": "2022-03-14T09:51:47.464000Z"
    }
   },
   "outputs": [],
   "source": [
    "from sklearn.preprocessing import MinMaxScaler\n",
    "\n",
    "sc = MinMaxScaler()\n",
    "\n",
    "y=sc.fit_transform(df[['Open']])\n",
    "x1=sc.fit_transform(df[['High']])\n",
    "x2=sc.fit_transform(df[['Low']])\n",
    "x3=sc.fit_transform(df[['Close']])\n",
    "x4=sc.fit_transform(df[['Total Trade Quantity']])\n",
    "x5=sc.fit_transform(df[['Turnover (Lacs)']])"
   ]
  },
  {
   "cell_type": "code",
   "execution_count": 36,
   "metadata": {
    "execution": {
     "iopub.execute_input": "2022-03-14T09:51:47.492742Z",
     "iopub.status.busy": "2022-03-14T09:51:47.492509Z",
     "iopub.status.idle": "2022-03-14T09:51:47.497147Z",
     "shell.execute_reply": "2022-03-14T09:51:47.496482Z",
     "shell.execute_reply.started": "2022-03-14T09:51:47.492711Z"
    }
   },
   "outputs": [
    {
     "data": {
      "text/plain": [
       "(2035, 1)"
      ]
     },
     "execution_count": 36,
     "metadata": {},
     "output_type": "execute_result"
    }
   ],
   "source": [
    "x1.shape"
   ]
  },
  {
   "cell_type": "code",
   "execution_count": 37,
   "metadata": {
    "execution": {
     "iopub.execute_input": "2022-03-14T09:51:47.499302Z",
     "iopub.status.busy": "2022-03-14T09:51:47.498835Z",
     "iopub.status.idle": "2022-03-14T09:51:47.515427Z",
     "shell.execute_reply": "2022-03-14T09:51:47.514730Z",
     "shell.execute_reply.started": "2022-03-14T09:51:47.499266Z"
    }
   },
   "outputs": [],
   "source": [
    "l1=[]\n",
    "l2=[]\n",
    "l3=[]\n",
    "l4=[]\n",
    "l5=[]\n",
    "\n",
    "ly=[]\n",
    "\n",
    "for i in range(1975):\n",
    "    l1.append(x1[i:i+61,0])\n",
    "    l2.append(x2[i:i+61,0])\n",
    "    l3.append(x3[i:i+61,0])\n",
    "    l4.append(x4[i:i+61,0])\n",
    "    l5.append(x5[i:i+61,0])\n",
    "    \n",
    "    ly.append(y[i:i+61,0])"
   ]
  },
  {
   "cell_type": "code",
   "execution_count": 38,
   "metadata": {
    "execution": {
     "iopub.execute_input": "2022-03-14T09:51:47.517052Z",
     "iopub.status.busy": "2022-03-14T09:51:47.516744Z",
     "iopub.status.idle": "2022-03-14T09:51:47.533342Z",
     "shell.execute_reply": "2022-03-14T09:51:47.532708Z",
     "shell.execute_reply.started": "2022-03-14T09:51:47.517015Z"
    }
   },
   "outputs": [],
   "source": [
    "l2 = np.array(l2)\n",
    "l1 = np.array(l1)\n",
    "\n",
    "l3 = np.array(l3)\n",
    "l4 = np.array(l4)\n",
    "l5 = np.array(l5)\n",
    "\n",
    "\n",
    " "
   ]
  },
  {
   "cell_type": "code",
   "execution_count": 39,
   "metadata": {
    "execution": {
     "iopub.execute_input": "2022-03-14T09:51:47.537147Z",
     "iopub.status.busy": "2022-03-14T09:51:47.536952Z",
     "iopub.status.idle": "2022-03-14T09:51:47.547443Z",
     "shell.execute_reply": "2022-03-14T09:51:47.546827Z",
     "shell.execute_reply.started": "2022-03-14T09:51:47.537123Z"
    }
   },
   "outputs": [
    {
     "data": {
      "text/plain": [
       "(1975, 61)"
      ]
     },
     "execution_count": 39,
     "metadata": {},
     "output_type": "execute_result"
    }
   ],
   "source": [
    "ly = np.array(ly)\n",
    "ly.shape"
   ]
  },
  {
   "cell_type": "code",
   "execution_count": 40,
   "metadata": {
    "execution": {
     "iopub.execute_input": "2022-03-14T09:51:47.548831Z",
     "iopub.status.busy": "2022-03-14T09:51:47.548582Z",
     "iopub.status.idle": "2022-03-14T09:51:47.553452Z",
     "shell.execute_reply": "2022-03-14T09:51:47.552682Z",
     "shell.execute_reply.started": "2022-03-14T09:51:47.548798Z"
    }
   },
   "outputs": [],
   "source": [
    "l1 = l1[:,:60]\n",
    "l2 = l2[:,:60]\n",
    "l3 = l3[:,:60]\n",
    "l4 = l4[:,:60]\n",
    "l5 = l5[:,:60]\n",
    "\n",
    "ly = ly[:,-1]"
   ]
  },
  {
   "cell_type": "markdown",
   "metadata": {},
   "source": [
    "## Preprocess the Data - Train and Test"
   ]
  },
  {
   "cell_type": "code",
   "execution_count": 60,
   "metadata": {
    "execution": {
     "iopub.execute_input": "2022-03-14T09:51:47.555488Z",
     "iopub.status.busy": "2022-03-14T09:51:47.555170Z",
     "iopub.status.idle": "2022-03-14T09:51:47.566749Z",
     "shell.execute_reply": "2022-03-14T09:51:47.566117Z",
     "shell.execute_reply.started": "2022-03-14T09:51:47.555456Z"
    }
   },
   "outputs": [],
   "source": [
    "X = np.hstack((l1,l2,l3,l4,l5))\n",
    "Y = ly"
   ]
  },
  {
   "cell_type": "code",
   "execution_count": 61,
   "metadata": {
    "execution": {
     "iopub.execute_input": "2022-03-14T09:51:47.569690Z",
     "iopub.status.busy": "2022-03-14T09:51:47.569108Z",
     "iopub.status.idle": "2022-03-14T09:51:47.574179Z",
     "shell.execute_reply": "2022-03-14T09:51:47.573383Z",
     "shell.execute_reply.started": "2022-03-14T09:51:47.569650Z"
    }
   },
   "outputs": [],
   "source": [
    "X = X.reshape(1975,60,5)"
   ]
  },
  {
   "cell_type": "code",
   "execution_count": 62,
   "metadata": {
    "execution": {
     "iopub.execute_input": "2022-03-14T09:51:47.575842Z",
     "iopub.status.busy": "2022-03-14T09:51:47.575551Z",
     "iopub.status.idle": "2022-03-14T09:51:47.584241Z",
     "shell.execute_reply": "2022-03-14T09:51:47.583366Z",
     "shell.execute_reply.started": "2022-03-14T09:51:47.575804Z"
    }
   },
   "outputs": [
    {
     "data": {
      "text/plain": [
       "(1975, 60, 5)"
      ]
     },
     "execution_count": 62,
     "metadata": {},
     "output_type": "execute_result"
    }
   ],
   "source": [
    "X.shape"
   ]
  },
  {
   "cell_type": "code",
   "execution_count": 63,
   "metadata": {
    "execution": {
     "iopub.execute_input": "2022-03-14T09:51:47.586107Z",
     "iopub.status.busy": "2022-03-14T09:51:47.585680Z",
     "iopub.status.idle": "2022-03-14T09:51:47.596095Z",
     "shell.execute_reply": "2022-03-14T09:51:47.595376Z",
     "shell.execute_reply.started": "2022-03-14T09:51:47.586066Z"
    }
   },
   "outputs": [],
   "source": [
    "X_train , X_test,y_train , y_test = train_test_split(X,Y)"
   ]
  },
  {
   "cell_type": "code",
   "execution_count": 64,
   "metadata": {},
   "outputs": [
    {
     "data": {
      "text/plain": [
       "array([[[0.06749339, 0.0642407 , 0.07379549, 0.07582842, 0.07155926],\n",
       "        [0.06139459, 0.06586705, 0.06749339, 0.05041675, 0.05773531],\n",
       "        [0.05773531, 0.05468591, 0.03821915, 0.02195568, 0.0274446 ],\n",
       "        ...,\n",
       "        [0.01724397, 0.01122491, 0.0360526 , 0.0321133 , 0.04613102],\n",
       "        [0.04581407, 0.01863687, 0.02839762, 0.02278059, 0.01963727],\n",
       "        [0.03189703, 0.00712767, 0.01456781, 0.03048348, 0.00995082]],\n",
       "\n",
       "       [[0.22646879, 0.23500712, 0.24191909, 0.2415125 , 0.2325676 ],\n",
       "        [0.24029274, 0.24293556, 0.2325676 , 0.22829843, 0.23053466],\n",
       "        [0.22524903, 0.22362269, 0.21467778, 0.21508437, 0.22443586],\n",
       "        ...,\n",
       "        [0.02917242, 0.02253579, 0.02621485, 0.01779154, 0.0427472 ],\n",
       "        [0.02964103, 0.03929984, 0.05818116, 0.03532841, 0.05708618],\n",
       "        [0.07657969, 0.05918029, 0.03902865, 0.05811726, 0.05690904]],\n",
       "\n",
       "       [[0.1589754 , 0.16263468, 0.15978857, 0.16324456, 0.16283798],\n",
       "        [0.16588738, 0.16182151, 0.16263468, 0.1652775 , 0.17056312],\n",
       "        [0.1772718 , 0.14718439, 0.14108559, 0.16060175, 0.15328319],\n",
       "        ...,\n",
       "        [0.01106338, 0.0039944 , 0.00609623, 0.00805215, 0.01855198],\n",
       "        [0.01310976, 0.0059505 , 0.00560913, 0.0039987 , 0.00504935],\n",
       "        [0.00966258, 0.00704314, 0.00612243, 0.02479107, 0.01747154]],\n",
       "\n",
       "       ...,\n",
       "\n",
       "       [[0.29497865, 0.30107745, 0.30778614, 0.31408823, 0.34234601],\n",
       "        [0.31347835, 0.3210002 , 0.32892864, 0.33258792, 0.33482415],\n",
       "        [0.33929661, 0.33990649, 0.35007115, 0.34356577, 0.3240496 ],\n",
       "        ...,\n",
       "        [0.27700239, 0.04317291, 0.05199591, 0.09786184, 0.20358379],\n",
       "        [0.11656297, 0.0342128 , 0.07336188, 0.07514873, 0.26392493],\n",
       "        [0.05582465, 0.06075662, 0.06720175, 0.05424634, 0.07835828]],\n",
       "\n",
       "       [[0.24029274, 0.21264485, 0.21305143, 0.21223826, 0.21223826],\n",
       "        [0.2110185 , 0.21630413, 0.21366131, 0.21183167, 0.2079691 ],\n",
       "        [0.20227689, 0.2018703 , 0.19678797, 0.1894694 , 0.18215084],\n",
       "        ...,\n",
       "        [0.02478856, 0.02831812, 0.03074588, 0.03079487, 0.02478389],\n",
       "        [0.09841265, 0.0391209 , 0.05366826, 0.04195284, 0.05788323],\n",
       "        [0.04462774, 0.02785525, 0.03126689, 0.03021014, 0.03840587]],\n",
       "\n",
       "       [[0.87741411, 0.88127668, 0.84204107, 0.82150844, 0.81378329],\n",
       "        [0.81703598, 0.82821712, 0.85708477, 0.85139256, 0.84509047],\n",
       "        [0.84163448, 0.79528359, 0.80178898, 0.78938809, 0.78491563],\n",
       "        ...,\n",
       "        [0.06132987, 0.09504426, 0.08256123, 0.0717046 , 0.07325329],\n",
       "        [0.13753894, 0.16647409, 0.12008122, 0.20008708, 0.14071475],\n",
       "        [0.1413203 , 0.10988165, 0.1112295 , 0.37336651, 0.09452737]]])"
      ]
     },
     "execution_count": 64,
     "metadata": {},
     "output_type": "execute_result"
    }
   ],
   "source": [
    "X_train"
   ]
  },
  {
   "cell_type": "code",
   "execution_count": 65,
   "metadata": {},
   "outputs": [
    {
     "data": {
      "text/plain": [
       "array([[[0.23012807, 0.23419394, 0.24801789, 0.26855052, 0.26021549],\n",
       "        [0.250864  , 0.2417158 , 0.23968286, 0.25208376, 0.24435861],\n",
       "        [0.2478146 , 0.25513316, 0.26509453, 0.25005082, 0.25289693],\n",
       "        ...,\n",
       "        [0.06994144, 0.05681015, 0.05802106, 0.0625153 , 0.0438883 ],\n",
       "        [0.03395471, 0.08915658, 0.06037578, 0.07604916, 0.12932006],\n",
       "        [0.1885567 , 0.05721325, 0.06730746, 0.05537847, 0.09466826]],\n",
       "\n",
       "       [[0.06464729, 0.06911974, 0.07277902, 0.07765806, 0.08477333],\n",
       "        [0.08944908, 0.09310836, 0.08944908, 0.08660297, 0.08457003],\n",
       "        [0.08192722, 0.08009758, 0.08965237, 0.08883919, 0.08578979],\n",
       "        ...,\n",
       "        [0.01033023, 0.02588713, 0.00461628, 0.0066998 , 0.00541512],\n",
       "        [0.01548044, 0.03325709, 0.00342403, 0.00921605, 0.0073915 ],\n",
       "        [0.00980795, 0.01484062, 0.01034225, 0.00661689, 0.00932911]],\n",
       "\n",
       "       [[0.21549095, 0.21549095, 0.21752389, 0.22646879, 0.21549095],\n",
       "        [0.21223826, 0.21955682, 0.22362269, 0.22890831, 0.22484245],\n",
       "        [0.22606221, 0.21732059, 0.21508437, 0.21223826, 0.21630413],\n",
       "        ...,\n",
       "        [0.02306165, 0.01692755, 0.02763234, 0.02035965, 0.02211923],\n",
       "        [0.02782833, 0.02191588, 0.02282456, 0.02814259, 0.01337161],\n",
       "        [0.02810364, 0.01475572, 0.02045747, 0.01675974, 0.01678505]],\n",
       "\n",
       "       ...,\n",
       "\n",
       "       [[0.29152267, 0.30656638, 0.30494003, 0.32608254, 0.30758284],\n",
       "        [0.30331368, 0.29599512, 0.29294572, 0.27973165, 0.2630616 ],\n",
       "        [0.26529782, 0.26712746, 0.27200651, 0.2598089 , 0.2567595 ],\n",
       "        ...,\n",
       "        [0.07112418, 0.03960477, 0.04986374, 0.0231968 , 0.03093648],\n",
       "        [0.03151977, 0.05480074, 0.05400118, 0.05433824, 0.07406632],\n",
       "        [0.07572395, 0.05784285, 0.07439494, 0.07301172, 0.04600449]],\n",
       "\n",
       "       [[0.34234601, 0.35271397, 0.35332385, 0.37182354, 0.36572474],\n",
       "        [0.37182354, 0.36958731, 0.36348851, 0.34214271, 0.34742834],\n",
       "        [0.35251067, 0.35352714, 0.34844481, 0.33807684, 0.34010978],\n",
       "        ...,\n",
       "        [0.24754729, 0.13108214, 0.08089929, 0.20031878, 0.0888224 ],\n",
       "        [0.13087431, 0.26281488, 0.16545629, 0.22252649, 0.02293261],\n",
       "        [0.03317597, 0.03325835, 0.01957355, 0.03022737, 0.02750922]],\n",
       "\n",
       "       [[0.25269364, 0.25614962, 0.27851189, 0.28522057, 0.27668225],\n",
       "        [0.28095141, 0.28217117, 0.26672088, 0.2722098 , 0.26956699],\n",
       "        [0.25594633, 0.26794064, 0.24883106, 0.24069933, 0.2447652 ],\n",
       "        ...,\n",
       "        [0.05701959, 0.02351734, 0.02938671, 0.03550448, 0.03992118],\n",
       "        [0.04242055, 0.06631838, 0.03988995, 0.07261077, 0.03174896],\n",
       "        [0.06290368, 0.06034401, 0.07395558, 0.03225616, 0.07064785]]])"
      ]
     },
     "execution_count": 65,
     "metadata": {},
     "output_type": "execute_result"
    }
   ],
   "source": [
    "X_test\n"
   ]
  },
  {
   "cell_type": "code",
   "execution_count": 66,
   "metadata": {},
   "outputs": [
    {
     "data": {
      "text/plain": [
       "array([0.06954582, 0.25446067, 0.01155718, ..., 0.32035685, 0.23864558,\n",
       "       0.52676399])"
      ]
     },
     "execution_count": 66,
     "metadata": {},
     "output_type": "execute_result"
    }
   ],
   "source": [
    "y_train"
   ]
  },
  {
   "cell_type": "code",
   "execution_count": 67,
   "metadata": {},
   "outputs": [
    {
     "data": {
      "text/plain": [
       "array([0.33292782, 0.06244931, 0.16585564, 0.10016221, 0.36476075,\n",
       "       0.47060016, 0.20640714, 0.26034063, 0.71107056, 0.13219789,\n",
       "       0.28751014, 0.27108678, 0.27534469, 0.15369019, 0.03974047,\n",
       "       0.78994323, 0.15916464, 0.02696675, 0.27128954, 0.47607461,\n",
       "       0.26723439, 0.24513382, 0.77047851, 0.74493106, 0.736618  ,\n",
       "       0.25648824, 0.0553528 , 0.02270884, 0.33049473, 0.30332522,\n",
       "       0.64720195, 0.28933496, 0.38077859, 0.27473642, 0.1540957 ,\n",
       "       0.08678021, 0.01824818, 0.66058394, 0.53345499, 0.14233577,\n",
       "       0.25871857, 0.34428224, 0.23357664, 0.05109489, 0.21674777,\n",
       "       0.28345499, 0.20255474, 0.19424169, 0.06447689, 0.33008921,\n",
       "       0.19424169, 0.0405515 , 0.20235199, 0.29156529, 0.28527981,\n",
       "       0.13341444, 0.06893755, 0.25263585, 0.21816707, 0.25101379,\n",
       "       0.48803731, 0.11901865, 0.17802109, 0.18187348, 0.36739659,\n",
       "       0.16626115, 0.30697486, 0.17011354, 0.26804542, 0.36050284,\n",
       "       0.16605839, 0.31589619, 0.24128143, 0.2838605 , 0.20032441,\n",
       "       0.20377129, 0.04521492, 0.15004055, 0.12530414, 0.15470397,\n",
       "       0.23763179, 0.12043796, 0.31589619, 0.15287916, 0.29764801,\n",
       "       0.337794  , 0.15004055, 0.78629359, 0.24493106, 0.29359286,\n",
       "       0.03000811, 0.04480941, 0.34103812, 0.22931873, 0.16788321,\n",
       "       0.15693431, 0.25628548, 0.30210868, 0.06042174, 0.24249797,\n",
       "       0.25608273, 0.27311436, 0.28710462, 0.02189781, 0.72141119,\n",
       "       0.29115977, 0.59144363, 0.24979724, 0.27858881, 0.17619627,\n",
       "       0.14963504, 0.24918897, 0.14030819, 0.05981346, 0.04602595,\n",
       "       0.12550689, 0.21005677, 0.78041363, 0.10786699, 0.29440389,\n",
       "       0.27412814, 0.76804542, 0.25831306, 0.15977291, 0.21492295,\n",
       "       0.17437145, 0.31285483, 0.32745337, 0.62287105, 0.07137064,\n",
       "       0.21248986, 0.23965937, 0.27980535, 0.05515004, 0.29967559,\n",
       "       0.31792376, 0.18978102, 0.24918897, 0.70397405, 0.13746959,\n",
       "       0.06082725, 0.31569343, 0.30170316, 0.32258719, 0.22262774,\n",
       "       0.82684509, 0.14193025, 0.21046229, 0.25202758, 0.30373074,\n",
       "       0.14193025, 0.23864558, 0.25567721, 0.06042174, 0.37672344,\n",
       "       0.26317924, 0.09144363, 0.21654501, 0.1054339 , 0.15470397,\n",
       "       0.32197891, 0.38240065, 0.11922141, 0.12368208, 0.256691  ,\n",
       "       0.27027575, 0.06934307, 0.13017032, 0.04987835, 0.04379562,\n",
       "       0.29967559, 0.78629359, 0.14274128, 0.02879157, 0.21593674,\n",
       "       0.98094079, 0.27493917, 0.19545823, 0.25932685, 0.3081914 ,\n",
       "       0.34610706, 0.87145174, 0.27716951, 0.31995134, 0.30940795,\n",
       "       0.1526764 , 0.72283049, 0.18491484, 0.2891322 , 0.30900243,\n",
       "       0.38402271, 0.19424169, 0.10989457, 0.34022709, 0.25506894,\n",
       "       0.5486618 , 0.03264396, 0.35604217, 0.1770073 , 0.28426602,\n",
       "       0.06407137, 0.32907543, 0.24533658, 0.3215734 , 0.2203974 ,\n",
       "       0.25162206, 0.07866991, 0.15774534, 0.03203569, 0.02331711,\n",
       "       0.23154907, 0.32745337, 0.27047851, 0.28933496, 0.29967559,\n",
       "       0.29764801, 0.09164639, 0.3067721 , 0.32704785, 0.26236821,\n",
       "       0.21492295, 0.15348743, 0.08941606, 0.35279805, 0.28892944,\n",
       "       0.30900243, 0.23824006, 0.68917275, 0.94870235, 0.05798865,\n",
       "       0.19809408, 0.27331711, 0.22648013, 0.82420925, 0.27372263,\n",
       "       0.26682887, 0.14557989, 0.04014599, 0.09042985, 0.24493106,\n",
       "       0.07542579, 0.25993512, 0.23641525, 0.32339822, 0.28345499,\n",
       "       0.05961071, 0.26865369, 0.13625304, 0.19403893, 0.73763179,\n",
       "       0.3215734 , 0.2919708 , 0.27128954, 0.54156529, 0.18856448,\n",
       "       0.21451744, 0.94870235, 0.2919708 , 0.3039335 , 0.27128954,\n",
       "       0.04136253, 0.20843471, 0.2905515 , 0.24898621, 0.01784266,\n",
       "       0.15571776, 0.29420114, 0.26034063, 0.21776156, 0.18207624,\n",
       "       0.27696675, 0.15794809, 0.29764801, 0.34833739, 0.28548256,\n",
       "       0.30940795, 0.07684509, 0.9026764 , 0.08860503, 0.09854015,\n",
       "       0.11719384, 0.23398216, 0.28345499, 0.30190592, 0.31549067,\n",
       "       0.52128954, 0.29602595, 0.20437956, 0.31690998, 0.16788321,\n",
       "       0.21188159, 0.33150852, 0.1269262 , 0.20255474, 0.19160584,\n",
       "       0.16504461, 0.03892944, 0.23357664, 0.2595296 , 0.05636659,\n",
       "       0.24290349, 0.24695864, 0.76601784, 0.24270073, 0.28527981,\n",
       "       0.1311841 , 0.09529603, 0.20600162, 0.23479319, 0.51419303,\n",
       "       0.2676399 , 0.28953771, 0.80210868, 0.15774534, 0.20681265,\n",
       "       0.15166261, 0.18532036, 0.2041768 , 0.16504461, 0.35239254,\n",
       "       0.29805353, 0.23438767, 0.1459854 , 0.35847526, 0.24797242,\n",
       "       0.31143552, 0.41119221, 0.32339822, 0.15693431, 0.18775345,\n",
       "       0.27047851, 0.06103001, 0.28345499, 0.175588  , 0.2891322 ,\n",
       "       0.08008921, 0.20235199, 0.16991079, 0.15855637, 0.10604217,\n",
       "       0.16585564, 0.17011354, 0.28527981, 0.23824006, 0.85523114,\n",
       "       0.19343066, 0.11719384, 0.19525547, 0.36050284, 0.12550689,\n",
       "       0.24695864, 0.29115977, 0.22262774, 0.05961071, 0.16423358,\n",
       "       0.78446878, 0.14537713, 0.27939984, 0.15794809, 0.26723439,\n",
       "       0.20863747, 0.29359286, 0.34833739, 0.09367397, 0.27088402,\n",
       "       0.17437145, 0.83090024, 0.14152474, 0.3081914 , 0.24797242,\n",
       "       0.16666667, 0.15389294, 0.30089213, 0.20640714, 0.28609084,\n",
       "       0.15450122, 0.28669911, 0.13746959, 0.24128143, 0.01662612,\n",
       "       0.04217356, 0.30879968, 0.33211679, 0.74614761, 0.28527981,\n",
       "       0.08069749, 0.16180049, 0.22668289, 0.47404704, 0.06812652,\n",
       "       0.25648824, 0.30778589, 0.79034874, 0.15287916, 0.33901054,\n",
       "       0.824412  , 0.77007299, 0.05636659, 0.12935929, 0.33617194,\n",
       "       0.24128143, 0.25101379, 0.26723439, 0.13260341, 0.17802109,\n",
       "       0.53081914, 0.21857259, 0.32400649, 0.06731549, 0.23215734,\n",
       "       0.33617194, 0.2122871 , 0.04825629, 0.84225466, 0.25912409,\n",
       "       0.11719384, 0.28325223, 0.34428224, 0.52676399, 0.21370641,\n",
       "       0.21695053, 0.0663017 , 0.14882401, 0.17538524, 0.15571776,\n",
       "       0.7404704 , 0.03994323, 0.12104623, 0.31690998, 0.25405515,\n",
       "       0.33231955, 0.11192214, 0.10969181, 0.2027575 , 0.29967559,\n",
       "       0.25547445, 0.29176805, 0.21938362, 0.20924574, 0.11922141,\n",
       "       0.24493106, 0.19018654, 0.37591241, 0.26317924, 0.20681265,\n",
       "       0.24148418, 0.16788321, 0.05636659, 0.16463909, 0.04420114,\n",
       "       0.07704785, 0.27534469, 0.50040552, 0.20823195, 0.7175588 ,\n",
       "       0.21532847, 0.84306569, 0.30454177, 0.33860503, 0.25729927,\n",
       "       0.21289538, 0.36861314, 0.23296837, 0.14801298, 0.24695864,\n",
       "       0.18045418, 0.21451744, 0.74168694, 0.30859692, 0.14557989,\n",
       "       0.21248986, 0.28548256, 0.33617194, 0.1703163 , 0.47830495,\n",
       "       0.27534469, 0.78223844, 0.24736415, 0.18410381, 0.10016221,\n",
       "       0.23073804, 0.19971614, 0.18207624, 0.31143552, 0.34407948,\n",
       "       0.03730738, 0.2485807 , 0.27088402, 0.22303325, 0.29034874,\n",
       "       0.19870235, 0.24574209, 0.19018654, 0.21411192])"
      ]
     },
     "execution_count": 67,
     "metadata": {},
     "output_type": "execute_result"
    }
   ],
   "source": [
    "y_test"
   ]
  },
  {
   "cell_type": "markdown",
   "metadata": {},
   "source": [
    "## Creating an Stacked LSTM Model"
   ]
  },
  {
   "cell_type": "code",
   "execution_count": 68,
   "metadata": {
    "execution": {
     "iopub.execute_input": "2022-03-14T09:51:47.597841Z",
     "iopub.status.busy": "2022-03-14T09:51:47.597575Z",
     "iopub.status.idle": "2022-03-14T09:51:52.476465Z",
     "shell.execute_reply": "2022-03-14T09:51:52.475723Z",
     "shell.execute_reply.started": "2022-03-14T09:51:47.597803Z"
    }
   },
   "outputs": [],
   "source": [
    "from tensorflow.keras.layers import Dense, LSTM,Dropout\n",
    "from tensorflow.keras.models import Sequential"
   ]
  },
  {
   "cell_type": "code",
   "execution_count": 69,
   "metadata": {
    "execution": {
     "iopub.execute_input": "2022-03-14T09:51:52.479601Z",
     "iopub.status.busy": "2022-03-14T09:51:52.479392Z",
     "iopub.status.idle": "2022-03-14T09:51:55.608187Z",
     "shell.execute_reply": "2022-03-14T09:51:55.607489Z",
     "shell.execute_reply.started": "2022-03-14T09:51:52.479576Z"
    }
   },
   "outputs": [],
   "source": [
    "model = Sequential()\n",
    "model.add(LSTM(150,  return_sequences = True,input_shape = (60,5)))\n",
    "model.add(Dropout(rate= 0.2))\n",
    "model.add(LSTM(200,return_sequences = True))\n",
    "model.add(LSTM(200,return_sequences = True))\n",
    "model.add(LSTM(200,return_sequences = False))\n",
    "\n",
    "model.add(Dropout(0.2))\n",
    "model.add(Dense(1))\n"
   ]
  },
  {
   "cell_type": "code",
   "execution_count": 70,
   "metadata": {},
   "outputs": [
    {
     "name": "stdout",
     "output_type": "stream",
     "text": [
      "Model: \"sequential_2\"\n",
      "_________________________________________________________________\n",
      " Layer (type)                Output Shape              Param #   \n",
      "=================================================================\n",
      " lstm_8 (LSTM)               (None, 60, 150)           93600     \n",
      "                                                                 \n",
      " dropout_4 (Dropout)         (None, 60, 150)           0         \n",
      "                                                                 \n",
      " lstm_9 (LSTM)               (None, 60, 200)           280800    \n",
      "                                                                 \n",
      " lstm_10 (LSTM)              (None, 60, 200)           320800    \n",
      "                                                                 \n",
      " lstm_11 (LSTM)              (None, 200)               320800    \n",
      "                                                                 \n",
      " dropout_5 (Dropout)         (None, 200)               0         \n",
      "                                                                 \n",
      " dense_2 (Dense)             (None, 1)                 201       \n",
      "                                                                 \n",
      "=================================================================\n",
      "Total params: 1,016,201\n",
      "Trainable params: 1,016,201\n",
      "Non-trainable params: 0\n",
      "_________________________________________________________________\n"
     ]
    }
   ],
   "source": [
    "model.summary()"
   ]
  },
  {
   "cell_type": "code",
   "execution_count": 47,
   "metadata": {
    "execution": {
     "iopub.execute_input": "2022-03-14T09:51:55.609659Z",
     "iopub.status.busy": "2022-03-14T09:51:55.609438Z",
     "iopub.status.idle": "2022-03-14T09:51:55.623021Z",
     "shell.execute_reply": "2022-03-14T09:51:55.622175Z",
     "shell.execute_reply.started": "2022-03-14T09:51:55.609628Z"
    }
   },
   "outputs": [],
   "source": [
    "model.compile(loss = 'mean_squared_error')"
   ]
  },
  {
   "cell_type": "markdown",
   "metadata": {},
   "source": [
    "## Training Model"
   ]
  },
  {
   "cell_type": "code",
   "execution_count": 48,
   "metadata": {
    "execution": {
     "iopub.execute_input": "2022-03-14T09:57:26.602850Z",
     "iopub.status.busy": "2022-03-14T09:57:26.602590Z",
     "iopub.status.idle": "2022-03-14T09:58:03.263005Z",
     "shell.execute_reply": "2022-03-14T09:58:03.261473Z",
     "shell.execute_reply.started": "2022-03-14T09:57:26.602819Z"
    }
   },
   "outputs": [
    {
     "name": "stdout",
     "output_type": "stream",
     "text": [
      "Epoch 1/30\n",
      "62/62 [==============================] - 37s 514ms/step - loss: 0.0439\n",
      "Epoch 2/30\n",
      "62/62 [==============================] - 32s 512ms/step - loss: 0.0151\n",
      "Epoch 3/30\n",
      "62/62 [==============================] - 32s 514ms/step - loss: 0.0115\n",
      "Epoch 4/30\n",
      "62/62 [==============================] - 32s 515ms/step - loss: 0.0082\n",
      "Epoch 5/30\n",
      "62/62 [==============================] - 32s 523ms/step - loss: 0.0076\n",
      "Epoch 6/30\n",
      "62/62 [==============================] - 32s 521ms/step - loss: 0.0076\n",
      "Epoch 7/30\n",
      "62/62 [==============================] - 32s 522ms/step - loss: 0.0056\n",
      "Epoch 8/30\n",
      "62/62 [==============================] - 33s 535ms/step - loss: 0.0052\n",
      "Epoch 9/30\n",
      "62/62 [==============================] - 33s 526ms/step - loss: 0.0045\n",
      "Epoch 10/30\n",
      "62/62 [==============================] - 33s 529ms/step - loss: 0.0045\n",
      "Epoch 11/30\n",
      "62/62 [==============================] - 32s 521ms/step - loss: 0.0050\n",
      "Epoch 12/30\n",
      "62/62 [==============================] - 32s 523ms/step - loss: 0.0039\n",
      "Epoch 13/30\n",
      "62/62 [==============================] - 33s 529ms/step - loss: 0.0040\n",
      "Epoch 14/30\n",
      "62/62 [==============================] - 32s 523ms/step - loss: 0.0035\n",
      "Epoch 15/30\n",
      "62/62 [==============================] - 32s 521ms/step - loss: 0.0035\n",
      "Epoch 16/30\n",
      "62/62 [==============================] - 32s 520ms/step - loss: 0.0032\n",
      "Epoch 17/30\n",
      "62/62 [==============================] - 32s 519ms/step - loss: 0.0219\n",
      "Epoch 18/30\n",
      "62/62 [==============================] - 32s 520ms/step - loss: 0.0030\n",
      "Epoch 19/30\n",
      "62/62 [==============================] - 32s 520ms/step - loss: 0.0033\n",
      "Epoch 20/30\n",
      "62/62 [==============================] - 32s 519ms/step - loss: 0.0028\n",
      "Epoch 21/30\n",
      "62/62 [==============================] - 32s 524ms/step - loss: 0.0027\n",
      "Epoch 22/30\n",
      "62/62 [==============================] - 32s 518ms/step - loss: 0.0026\n",
      "Epoch 23/30\n",
      "62/62 [==============================] - 32s 523ms/step - loss: 0.0023\n",
      "Epoch 24/30\n",
      "62/62 [==============================] - 32s 517ms/step - loss: 0.0027\n",
      "Epoch 25/30\n",
      "62/62 [==============================] - 33s 525ms/step - loss: 0.0024\n",
      "Epoch 26/30\n",
      "62/62 [==============================] - 32s 509ms/step - loss: 0.0021\n",
      "Epoch 27/30\n",
      "62/62 [==============================] - 32s 510ms/step - loss: 0.0023\n",
      "Epoch 28/30\n",
      "62/62 [==============================] - 32s 521ms/step - loss: 0.0022\n",
      "Epoch 29/30\n",
      "62/62 [==============================] - 32s 510ms/step - loss: 0.0020\n",
      "Epoch 30/30\n",
      "62/62 [==============================] - 32s 511ms/step - loss: 0.0020\n"
     ]
    },
    {
     "data": {
      "text/plain": [
       "<keras.callbacks.History at 0x7fb6fe250cd0>"
      ]
     },
     "execution_count": 48,
     "metadata": {},
     "output_type": "execute_result"
    }
   ],
   "source": [
    "model.fit(X,Y,batch_size=32,epochs=30)"
   ]
  },
  {
   "cell_type": "markdown",
   "metadata": {},
   "source": [
    "## Prediction"
   ]
  },
  {
   "cell_type": "code",
   "execution_count": 51,
   "metadata": {
    "execution": {
     "iopub.execute_input": "2022-03-14T09:56:28.592587Z",
     "iopub.status.busy": "2022-03-14T09:56:28.591983Z",
     "iopub.status.idle": "2022-03-14T09:56:28.597833Z",
     "shell.execute_reply": "2022-03-14T09:56:28.596902Z",
     "shell.execute_reply.started": "2022-03-14T09:56:28.592537Z"
    }
   },
   "outputs": [],
   "source": [
    "import matplotlib.pyplot as plt"
   ]
  },
  {
   "cell_type": "code",
   "execution_count": 52,
   "metadata": {
    "execution": {
     "iopub.execute_input": "2022-03-14T09:58:30.262460Z",
     "iopub.status.busy": "2022-03-14T09:58:30.261794Z",
     "iopub.status.idle": "2022-03-14T09:58:30.862644Z",
     "shell.execute_reply": "2022-03-14T09:58:30.861939Z",
     "shell.execute_reply.started": "2022-03-14T09:58:30.262423Z"
    }
   },
   "outputs": [
    {
     "data": {
      "text/plain": [
       "[<matplotlib.lines.Line2D at 0x7fb7384f14c0>]"
      ]
     },
     "execution_count": 52,
     "metadata": {},
     "output_type": "execute_result"
    },
    {
     "data": {
      "image/png": "[encoded data removed]",
      "text/plain": [
       "<Figure size 432x288 with 1 Axes>"
      ]
     },
     "metadata": {
      "needs_background": "light"
     },
     "output_type": "display_data"
    }
   ],
   "source": [
    "pred = model.predict(X)\n",
    "#Predicted By Model\n",
    "plt.plot(pred)"
   ]
  },
  {
   "cell_type": "code",
   "execution_count": 53,
   "metadata": {
    "execution": {
     "iopub.execute_input": "2022-03-14T09:58:41.173354Z",
     "iopub.status.busy": "2022-03-14T09:58:41.172671Z",
     "iopub.status.idle": "2022-03-14T09:58:41.365323Z",
     "shell.execute_reply": "2022-03-14T09:58:41.364619Z",
     "shell.execute_reply.started": "2022-03-14T09:58:41.173314Z"
    }
   },
   "outputs": [
    {
     "data": {
      "text/plain": [
       "[<matplotlib.lines.Line2D at 0x7fb7384259d0>]"
      ]
     },
     "execution_count": 53,
     "metadata": {},
     "output_type": "execute_result"
    },
    {
     "data": {
      "image/png": "[encoded data removed]",
      "text/plain": [
       "<Figure size 432x288 with 1 Axes>"
      ]
     },
     "metadata": {
      "needs_background": "light"
     },
     "output_type": "display_data"
    }
   ],
   "source": [
    "#Orizinal Stock Price\n",
    "plt.plot(Y)"
   ]
  },
  {
   "cell_type": "code",
   "execution_count": 54,
   "metadata": {
    "execution": {
     "iopub.execute_input": "2022-03-14T09:59:27.733865Z",
     "iopub.status.busy": "2022-03-14T09:59:27.733606Z",
     "iopub.status.idle": "2022-03-14T09:59:27.930002Z",
     "shell.execute_reply": "2022-03-14T09:59:27.929347Z",
     "shell.execute_reply.started": "2022-03-14T09:59:27.733835Z"
    }
   },
   "outputs": [
    {
     "data": {
      "text/plain": [
       "[<matplotlib.lines.Line2D at 0x7fb7383de460>]"
      ]
     },
     "execution_count": 54,
     "metadata": {},
     "output_type": "execute_result"
    },
    {
     "data": {
      "image/png": "[encoded data removed]",
      "text/plain": [
       "<Figure size 432x288 with 1 Axes>"
      ]
     },
     "metadata": {
      "needs_background": "light"
     },
     "output_type": "display_data"
    }
   ],
   "source": [
    "\n",
    "plt.plot(pred,color='Red')\n",
    "plt.plot(Y,color='Green')"
   ]
  },
  {
   "cell_type": "code",
   "execution_count": null,
   "metadata": {},
   "outputs": [
    {
     "data": {
      "application/javascript": [
       "window.require && require([\"base/js/namespace\"],function(Jupyter){Jupyter.notebook.save_checkpoint()})"
      ],
      "text/plain": [
       "<IPython.core.display.Javascript object>"
      ]
     },
     "metadata": {},
     "output_type": "display_data"
    }
   ],
   "source": [
    "jovian.commit(project=\"stock-price-prediction-task2\")"
   ]
  }
 ],
 "metadata": {
  "language_info": {
   "codemirror_mode": {
    "name": "ipython",
    "version": 3
   },
   "file_extension": ".py",
   "mimetype": "text/x-python",
   "name": "python",
   "nbconvert_exporter": "python",
   "pygments_lexer": "ipython3",
   "version": "3.9.6"
  }
 },
 "nbformat": 4,
 "nbformat_minor": 4
}